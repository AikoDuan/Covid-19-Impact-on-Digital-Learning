{
 "cells": [
  {
   "cell_type": "code",
   "execution_count": 1,
   "metadata": {},
   "outputs": [],
   "source": [
    "## Import all libraries\n",
    "## Import datasets - Need a bulk upload of files\n",
    "## Push all to the github repository\n",
    "import os\n",
    "import glob\n",
    "import pandas as pd\n",
    "import numpy as np\n",
    "import matplotlib as mpl\n",
    "import matplotlib.pyplot as plt"
   ]
  },
  {
   "cell_type": "code",
   "execution_count": 8,
   "metadata": {},
   "outputs": [],
   "source": [
    "dist = pd.read_csv(r'/Users/Aiko/Desktop/Data Science Project/learnplatform-covid19-impact-on-digital-learning/districts_info.csv')\n",
    "prod = pd.read_csv(r'/Users/Aiko/Desktop/Data Science Project/learnplatform-covid19-impact-on-digital-learning/products_info.csv')                 "
   ]
  },
  {
   "cell_type": "code",
   "execution_count": 15,
   "metadata": {},
   "outputs": [],
   "source": [
    "path = '/Users/Aiko/Desktop/Data Science Project/learnplatform-covid19-impact-on-digital-learning/engagement_data'\n",
    "csv_files = glob.glob(os.path.join(path, \"*.csv\"))"
   ]
  },
  {
   "cell_type": "code",
   "execution_count": 62,
   "metadata": {},
   "outputs": [],
   "source": [
    "# loop over the list of csv files\n",
    "engagement = pd.DataFrame()\n",
    "for f in csv_files:\n",
    "    # read the csv file\n",
    "    temp = pd.read_csv(f)\n",
    "    temp['School_District'] = os.path.basename(f)\n",
    "    engagement = pd.concat([temp, engagement], axis = 0)"
   ]
  },
  {
   "cell_type": "code",
   "execution_count": 64,
   "metadata": {},
   "outputs": [],
   "source": [
    "## Clean engagement data, and join with product and district table\n",
    "engagement['lp_id'] = engagement['lp_id'].astype(str).apply(lambda x: x.replace('.0',''))"
   ]
  },
  {
   "cell_type": "code",
   "execution_count": 65,
   "metadata": {},
   "outputs": [],
   "source": [
    "engagement['School_District'] = engagement['School_District'].apply(lambda x: x.replace('.csv',''))"
   ]
  },
  {
   "cell_type": "code",
   "execution_count": 70,
   "metadata": {},
   "outputs": [],
   "source": [
    "dist.district_id = dist.district_id.astype(str)"
   ]
  },
  {
   "cell_type": "code",
   "execution_count": 69,
   "metadata": {},
   "outputs": [],
   "source": [
    "engagement.School_District = engagement.School_District.astype(str)"
   ]
  },
  {
   "cell_type": "code",
   "execution_count": 77,
   "metadata": {},
   "outputs": [],
   "source": [
    "prod['LP ID'] = prod['LP ID'].astype(str)"
   ]
  },
  {
   "cell_type": "code",
   "execution_count": 71,
   "metadata": {},
   "outputs": [],
   "source": [
    "df = engagement.merge(dist, left_on = 'School_District', right_on = 'district_id', how = 'left')"
   ]
  },
  {
   "cell_type": "code",
   "execution_count": 78,
   "metadata": {},
   "outputs": [],
   "source": [
    "df = df.merge(prod, left_on = 'lp_id', right_on = 'LP ID', how = 'left')"
   ]
  },
  {
   "cell_type": "code",
   "execution_count": 83,
   "metadata": {},
   "outputs": [],
   "source": [
    "df = (df[['time','lp_id','district_id','pct_access','engagement_index','state','locale',\n",
    "          'pct_black/hispanic','pct_free/reduced', 'county_connections_ratio', 'pp_total_raw',\n",
    "          'Product Name', 'Provider/Company Name', 'Sector(s)','Primary Essential Function']])"
   ]
  },
  {
   "cell_type": "code",
   "execution_count": 89,
   "metadata": {},
   "outputs": [
    {
     "name": "stdout",
     "output_type": "stream",
     "text": [
      "<class 'pandas.core.frame.DataFrame'>\n",
      "Int64Index: 22324190 entries, 0 to 22324189\n",
      "Data columns (total 15 columns):\n",
      " #   Column                      Dtype  \n",
      "---  ------                      -----  \n",
      " 0   time                        object \n",
      " 1   lp_id                       object \n",
      " 2   district_id                 object \n",
      " 3   pct_access                  float64\n",
      " 4   engagement_index            float64\n",
      " 5   state                       object \n",
      " 6   locale                      object \n",
      " 7   pct_black/hispanic          object \n",
      " 8   pct_free/reduced            object \n",
      " 9   county_connections_ratio    object \n",
      " 10  pp_total_raw                object \n",
      " 11  Product Name                object \n",
      " 12  Provider/Company Name       object \n",
      " 13  Sector(s)                   object \n",
      " 14  Primary Essential Function  object \n",
      "dtypes: float64(2), object(13)\n",
      "memory usage: 2.7+ GB\n"
     ]
    }
   ],
   "source": [
    "df.info()"
   ]
  },
  {
   "cell_type": "code",
   "execution_count": null,
   "metadata": {},
   "outputs": [],
   "source": [
    "df.to_csv(r'/Users/Aiko/Desktop/Data Science Project/learnplatform-covid19-impact-on-digital-learning/merged_data.csv')"
   ]
  },
  {
   "cell_type": "code",
   "execution_count": 2,
   "metadata": {},
   "outputs": [
    {
     "name": "stderr",
     "output_type": "stream",
     "text": [
      "/opt/anaconda3/lib/python3.8/site-packages/IPython/core/interactiveshell.py:3071: DtypeWarning: Columns (6,7,8,9,10,11) have mixed types.Specify dtype option on import or set low_memory=False.\n",
      "  has_raised = await self.run_ast_nodes(code_ast.body, cell_name,\n"
     ]
    }
   ],
   "source": [
    "df = pd.read_csv(r'/Users/Aiko/Desktop/Data Science Project/learnplatform-covid19-impact-on-digital-learning/merged_data.csv')"
   ]
  },
  {
   "cell_type": "code",
   "execution_count": 6,
   "metadata": {},
   "outputs": [
    {
     "data": {
      "text/plain": [
       "Unnamed: 0                           0\n",
       "time                                 0\n",
       "lp_id                              541\n",
       "district_id                          0\n",
       "pct_access                       13447\n",
       "engagement_index               5378409\n",
       "state                          4888446\n",
       "locale                         4888446\n",
       "pct_black/hispanic             4888446\n",
       "pct_free/reduced               7332999\n",
       "county_connections_ratio       6318163\n",
       "pp_total_raw                  10095619\n",
       "Product Name                  10632603\n",
       "Provider/Company Name         10632603\n",
       "Sector(s)                     11136407\n",
       "Primary Essential Function    11136407\n",
       "dtype: int64"
      ]
     },
     "execution_count": 6,
     "metadata": {},
     "output_type": "execute_result"
    }
   ],
   "source": [
    "## Check missing values, data exploration\n",
    "df.isna().sum()"
   ]
  },
  {
   "cell_type": "code",
   "execution_count": null,
   "metadata": {},
   "outputs": [],
   "source": []
  }
 ],
 "metadata": {
  "kernelspec": {
   "display_name": "Python 3",
   "language": "python",
   "name": "python3"
  },
  "language_info": {
   "codemirror_mode": {
    "name": "ipython",
    "version": 3
   },
   "file_extension": ".py",
   "mimetype": "text/x-python",
   "name": "python",
   "nbconvert_exporter": "python",
   "pygments_lexer": "ipython3",
   "version": "3.8.3"
  }
 },
 "nbformat": 4,
 "nbformat_minor": 4
}
